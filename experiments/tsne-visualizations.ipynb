{
 "cells": [
  {
   "cell_type": "markdown",
   "metadata": {},
   "source": [
    "# Visualizing Embeddings with TSNE\n",
    "\n",
    "This is a demo to see the embeddings generated "
   ]
  },
  {
   "cell_type": "code",
   "execution_count": 3,
   "metadata": {},
   "outputs": [],
   "source": [
    "import torch as t\n",
    "import transformers as trfl\n",
    "from datasets import load_dataset\n",
    "import matplotlib.pyplot as plt"
   ]
  },
  {
   "cell_type": "markdown",
   "metadata": {},
   "source": [
    "## Data\n",
    "\n",
    "We will be using the news dataset (okite97/news-data) from HuggingFace.\n"
   ]
  },
  {
   "cell_type": "code",
   "execution_count": 5,
   "metadata": {},
   "outputs": [
    {
     "name": "stderr",
     "output_type": "stream",
     "text": [
      "Downloading data: 100%|██████████| 980k/980k [00:00<00:00, 5.21MB/s]\n",
      "Downloading data: 100%|██████████| 174k/174k [00:00<00:00, 1.96MB/s]\n",
      "Generating train split: 100%|██████████| 4686/4686 [00:00<00:00, 76516.28 examples/s]\n",
      "Generating test split: 100%|██████████| 828/828 [00:00<00:00, 159255.46 examples/s]\n"
     ]
    }
   ],
   "source": [
    "dataset = load_dataset(\"okite97/news-data\")"
   ]
  }
 ],
 "metadata": {
  "kernelspec": {
   "display_name": "reader-qnfOF5hD-py3.11",
   "language": "python",
   "name": "python3"
  },
  "language_info": {
   "codemirror_mode": {
    "name": "ipython",
    "version": 3
   },
   "file_extension": ".py",
   "mimetype": "text/x-python",
   "name": "python",
   "nbconvert_exporter": "python",
   "pygments_lexer": "ipython3",
   "version": "3.11.2"
  }
 },
 "nbformat": 4,
 "nbformat_minor": 2
}
